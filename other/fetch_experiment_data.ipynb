{
 "cells": [
  {
   "cell_type": "code",
   "execution_count": 1,
   "id": "9ae4f90c",
   "metadata": {},
   "outputs": [],
   "source": [
    "import requests\n",
    "import json\n",
    "import pandas as pd\n",
    "from io import StringIO\n",
    "from tqdm import tqdm"
   ]
  },
  {
   "cell_type": "code",
   "execution_count": 2,
   "id": "1007072f",
   "metadata": {},
   "outputs": [],
   "source": [
    "def fetch_metadata():\n",
    "    # url = f\"https://visualization.osdr.nasa.gov/biodata/api/v2/dataset/{osd_id}/assay/*/sample/*/?format=json\"\n",
    "    # url = f\"https://visualization.osdr.nasa.gov/biodata/api/v2/query/metadata/?investigation.study%20publications.study%20publication%20status=Published\"\n",
    "    url = \"https://visualization.osdr.nasa.gov/biodata/api/v2/query/metadata/?investigation.study%20publications.study%20pubmed%20id\"\n",
    "    response = requests.get(url)\n",
    "    response.raise_for_status()\n",
    "    return response.text\n",
    "\n",
    "data = fetch_metadata()"
   ]
  },
  {
   "cell_type": "code",
   "execution_count": 3,
   "id": "a5c38a2b",
   "metadata": {},
   "outputs": [
    {
     "name": "stdout",
     "output_type": "stream",
     "text": [
      "{0: ['OSD-5'], 1: ['OSD-12'], 2: ['OSD-30'], 3: ['OSD-6'], 4: ['OSD-78'], 5: ['OSD-11'], 6: ['OSD-227'], 7: ['OSD-152'], 8: ['OSD-32'], 9: ['OSD-115'], 10: ['OSD-175'], 11: ['OSD-296'], 12: ['OSD-51'], 13: ['OSD-31', 'OSD-39'], 14: ['OSD-14'], 15: ['OSD-97'], 16: ['OSD-29'], 17: ['OSD-176'], 18: ['OSD-18'], 19: ['OSD-22'], 20: ['OSD-36'], 21: ['OSD-15'], 22: ['OSD-178'], 23: ['OSD-3'], 24: ['OSD-149'], 25: ['OSD-182'], 26: ['OSD-92'], 27: ['OSD-154'], 28: ['OSD-2', 'OSD-9'], 29: ['OSD-153'], 30: ['OSD-75'], 31: ['OSD-155'], 32: ['OSD-17'], 33: ['OSD-27'], 34: ['OSD-128', 'OSD-129'], 35: ['OSD-8'], 36: ['OSD-93'], 37: ['OSD-28'], 38: ['OSD-13'], 39: ['OSD-33'], 40: ['OSD-94'], 41: ['OSD-57'], 42: ['OSD-158'], 43: ['OSD-88'], 44: ['OSD-43'], 45: ['OSD-73'], 46: ['OSD-486'], 47: ['OSD-156'], 48: ['OSD-70'], 49: ['OSD-7'], 50: ['OSD-80'], 51: ['OSD-157'], 52: ['OSD-20'], 53: ['OSD-59'], 54: ['OSD-285'], 55: ['OSD-1'], 56: ['OSD-148'], 57: ['OSD-81'], 58: ['OSD-55', 'OSD-56'], 59: ['OSD-54'], 60: ['OSD-320'], 61: ['OSD-159'], 62: ['OSD-183'], 63: ['OSD-74'], 64: ['OSD-16'], 65: ['OSD-44'], 66: ['OSD-547'], 67: ['OSD-213'], 68: ['OSD-58'], 69: ['OSD-531'], 70: ['OSD-160'], 71: ['OSD-62'], 72: ['OSD-167'], 73: ['OSD-60', 'OSD-123'], 74: ['OSD-72'], 75: ['OSD-89'], 76: ['OSD-471'], 77: ['OSD-125'], 78: ['OSD-83'], 79: ['OSD-351'], 80: ['OSD-86', 'OSD-91'], 81: ['OSD-118'], 82: ['OSD-71'], 83: ['OSD-174'], 84: ['OSD-195', 'OSD-198'], 85: ['OSD-107'], 86: ['OSD-127'], 87: ['OSD-85'], 88: ['OSD-122'], 89: ['OSD-95'], 90: ['OSD-49'], 91: ['OSD-126'], 92: ['OSD-133'], 93: ['OSD-114'], 94: ['OSD-130'], 95: ['OSD-191'], 96: ['OSD-119'], 97: ['OSD-132'], 98: ['OSD-136'], 99: ['OSD-135'], 100: ['OSD-139'], 101: ['OSD-120', 'OSD-281'], 102: ['OSD-224'], 103: ['OSD-90'], 104: ['OSD-53'], 105: ['OSD-315'], 106: ['OSD-209'], 107: ['OSD-146'], 108: ['OSD-374'], 109: ['OSD-189'], 110: ['OSD-192'], 111: ['OSD-165'], 112: ['OSD-363', 'OSD-364'], 113: ['OSD-271', 'OSD-275'], 114: ['OSD-263'], 115: ['OSD-276'], 116: ['OSD-295'], 117: ['OSD-362'], 118: ['OSD-317'], 119: ['OSD-304'], 120: ['OSD-124'], 121: ['OSD-177'], 122: ['OSD-220'], 123: ['OSD-287'], 124: ['OSD-344'], 125: ['OSD-170'], 126: ['OSD-260'], 127: ['OSD-340'], 128: ['OSD-305'], 129: ['OSD-430'], 130: ['OSD-69'], 131: ['OSD-208'], 132: ['OSD-308'], 133: ['OSD-345'], 134: ['OSD-233'], 135: ['OSD-496', 'OSD-498', 'OSD-502', 'OSD-508', 'OSD-510'], 136: ['OSD-356'], 137: ['OSD-261'], 138: ['OSD-201', 'OSD-214'], 139: ['OSD-205'], 140: ['OSD-232'], 141: ['OSD-435'], 142: ['OSD-217'], 143: ['OSD-264'], 144: ['OSD-65'], 145: ['OSD-288'], 146: ['OSD-568', 'OSD-583', 'OSD-715'], 147: ['OSD-259'], 148: ['OSD-353'], 149: ['OSD-200'], 150: ['OSD-212'], 151: ['OSD-202'], 152: ['OSD-279'], 153: ['OSD-255'], 154: ['OSD-359'], 155: ['OSD-485'], 156: ['OSD-410'], 157: ['OSD-258'], 158: ['OSD-455'], 159: ['OSD-266', 'OSD-318'], 160: ['OSD-137'], 161: ['OSD-289'], 162: ['OSD-545'], 163: ['OSD-99', 'OSD-100', 'OSD-161', 'OSD-162', 'OSD-163'], 164: ['OSD-278'], 165: ['OSD-294'], 166: ['OSD-193'], 167: ['OSD-267', 'OSD-268'], 168: ['OSD-518'], 169: ['OSD-280'], 170: ['OSD-301'], 171: ['OSD-252'], 172: ['OSD-326'], 173: ['OSD-265'], 174: ['OSD-298'], 175: ['OSD-290'], 176: ['OSD-322'], 177: ['OSD-256'], 178: ['OSD-331'], 179: ['OSD-342'], 180: ['OSD-415'], 181: ['OSD-452'], 182: ['OSD-316'], 183: ['OSD-215', 'OSD-216'], 184: ['OSD-313'], 185: ['OSD-286'], 186: ['OSD-347'], 187: ['OSD-337'], 188: ['OSD-343'], 189: ['OSD-355'], 190: ['OSD-321'], 191: ['OSD-373'], 192: ['OSD-350'], 193: ['OSD-360'], 194: ['OSD-324'], 195: ['OSD-520'], 196: ['OSD-307'], 197: ['OSD-397'], 198: ['OSD-509'], 199: ['OSD-396'], 200: ['OSD-590'], 201: ['OSD-794'], 202: ['OSD-426'], 203: ['OSD-391'], 204: ['OSD-416', 'OSD-427'], 205: ['OSD-467'], 206: ['OSD-412', 'OSD-413', 'OSD-414'], 207: ['OSD-386'], 208: ['OSD-686'], 209: ['OSD-488'], 210: ['OSD-431'], 211: ['OSD-306'], 212: ['OSD-225'], 213: ['OSD-481'], 214: ['OSD-519'], 215: ['OSD-476'], 216: ['OSD-401'], 217: ['OSD-140'], 218: ['OSD-484'], 219: ['OSD-536'], 220: ['OSD-514', 'OSD-592'], 221: ['OSD-540'], 222: ['OSD-505'], 223: ['OSD-581'], 224: ['OSD-565'], 225: ['OSD-487'], 226: ['OSD-539'], 227: ['OSD-599'], 228: ['OSD-714'], 229: ['OSD-616', 'OSD-617', 'OSD-652', 'OSD-653'], 230: ['OSD-611'], 231: ['OSD-615'], 232: ['OSD-690'], 233: ['OSD-682', 'OSD-685', 'OSD-698', 'OSD-699'], 234: ['OSD-684'], 235: ['OSD-811'], 236: ['OSD-722'], 237: ['OSD-566', 'OSD-719'], 238: ['OSD-723'], 239: ['OSD-635'], 240: ['OSD-810'], 241: ['OSD-625'], 242: ['OSD-694'], 243: ['OSD-530', 'OSD-532'], 244: ['OSD-352'], 245: ['OSD-689'], 246: ['OSD-516'], 247: ['OSD-678'], 248: ['OSD-683'], 249: ['OSD-812'], 250: ['OSD-863', 'OSD-871'], 251: ['OSD-792'], 252: ['OSD-813'], 253: ['OSD-825'], 254: ['OSD-720'], 255: ['OSD-867'], 256: ['OSD-788'], 257: ['OSD-728'], 258: ['OSD-881']}\n"
     ]
    }
   ],
   "source": [
    "# Read into a pandas DataFrame\n",
    "df = pd.read_csv(StringIO(data), dtype={\"investigation.study publications.study pubmed id\": str})\n",
    "\n",
    "# Group by PubMed ID and get unique OSD IDs per group\n",
    "grouped = df.groupby('investigation.study publications.study pubmed id')['id.accession'].unique().reset_index()\n",
    "\n",
    "# Optionally, convert numpy arrays to lists\n",
    "dict_data = grouped['id.accession'].apply(list).to_dict() # grouped['id.accession'] = \n",
    "print(dict_data)"
   ]
  },
  {
   "cell_type": "code",
   "execution_count": 4,
   "id": "fbf84545",
   "metadata": {},
   "outputs": [],
   "source": [
    "\n",
    "def fetch_osd_overview() -> dict:\n",
    "    url = \"https://visualization.osdr.nasa.gov/biodata/api/v2/dataset/*/metadata/mission/?format=json\"\n",
    "    response = requests.get(url)\n",
    "    response.raise_for_status()\n",
    "    return response.json()\n",
    "\n",
    "\n",
    "def fetch_metadata(osd_id: str):\n",
    "    url = f\"https://visualization.osdr.nasa.gov/biodata/api/v2/dataset/{osd_id}/?format=json\"\n",
    "    response = requests.get(url)\n",
    "    response.raise_for_status()\n",
    "    return response.json()[osd_id]\n",
    "\n",
    "def fetch_all_osd():\n",
    "    all_osd_data = {}\n",
    "    osd_overview = fetch_osd_overview()\n",
    "    for osd_id in tqdm(osd_overview.keys()):\n",
    "        data = fetch_metadata(osd_id)\n",
    "        all_osd_data[osd_id] = data\n",
    "\n",
    "    return all_osd_data\n"
   ]
  },
  {
   "cell_type": "code",
   "execution_count": 5,
   "id": "2d8de97f",
   "metadata": {},
   "outputs": [
    {
     "name": "stderr",
     "output_type": "stream",
     "text": [
      "  1%|          | 6/558 [00:04<07:27,  1.23it/s]\n"
     ]
    },
    {
     "ename": "KeyboardInterrupt",
     "evalue": "",
     "output_type": "error",
     "traceback": [
      "\u001b[0;31m---------------------------------------------------------------------------\u001b[0m",
      "\u001b[0;31mKeyboardInterrupt\u001b[0m                         Traceback (most recent call last)",
      "Cell \u001b[0;32mIn[5], line 1\u001b[0m\n\u001b[0;32m----> 1\u001b[0m data \u001b[38;5;241m=\u001b[39m \u001b[43mfetch_all_osd\u001b[49m\u001b[43m(\u001b[49m\u001b[43m)\u001b[49m\n",
      "Cell \u001b[0;32mIn[4], line 18\u001b[0m, in \u001b[0;36mfetch_all_osd\u001b[0;34m()\u001b[0m\n\u001b[1;32m     16\u001b[0m osd_overview \u001b[38;5;241m=\u001b[39m fetch_osd_overview()\n\u001b[1;32m     17\u001b[0m \u001b[38;5;28;01mfor\u001b[39;00m osd_id \u001b[38;5;129;01min\u001b[39;00m tqdm(osd_overview\u001b[38;5;241m.\u001b[39mkeys()):\n\u001b[0;32m---> 18\u001b[0m     data \u001b[38;5;241m=\u001b[39m \u001b[43mfetch_metadata\u001b[49m\u001b[43m(\u001b[49m\u001b[43mosd_id\u001b[49m\u001b[43m)\u001b[49m\n\u001b[1;32m     19\u001b[0m     all_osd_data[osd_id] \u001b[38;5;241m=\u001b[39m data\n\u001b[1;32m     21\u001b[0m \u001b[38;5;28;01mreturn\u001b[39;00m all_osd_data\n",
      "Cell \u001b[0;32mIn[4], line 10\u001b[0m, in \u001b[0;36mfetch_metadata\u001b[0;34m(osd_id)\u001b[0m\n\u001b[1;32m      8\u001b[0m \u001b[38;5;28;01mdef\u001b[39;00m\u001b[38;5;250m \u001b[39m\u001b[38;5;21mfetch_metadata\u001b[39m(osd_id: \u001b[38;5;28mstr\u001b[39m):\n\u001b[1;32m      9\u001b[0m     url \u001b[38;5;241m=\u001b[39m \u001b[38;5;124mf\u001b[39m\u001b[38;5;124m\"\u001b[39m\u001b[38;5;124mhttps://visualization.osdr.nasa.gov/biodata/api/v2/dataset/\u001b[39m\u001b[38;5;132;01m{\u001b[39;00mosd_id\u001b[38;5;132;01m}\u001b[39;00m\u001b[38;5;124m/?format=json\u001b[39m\u001b[38;5;124m\"\u001b[39m\n\u001b[0;32m---> 10\u001b[0m     response \u001b[38;5;241m=\u001b[39m \u001b[43mrequests\u001b[49m\u001b[38;5;241;43m.\u001b[39;49m\u001b[43mget\u001b[49m\u001b[43m(\u001b[49m\u001b[43murl\u001b[49m\u001b[43m)\u001b[49m\n\u001b[1;32m     11\u001b[0m     response\u001b[38;5;241m.\u001b[39mraise_for_status()\n\u001b[1;32m     12\u001b[0m     \u001b[38;5;28;01mreturn\u001b[39;00m response\u001b[38;5;241m.\u001b[39mjson()[osd_id]\n",
      "File \u001b[0;32m~/.local/lib/python3.10/site-packages/requests/api.py:73\u001b[0m, in \u001b[0;36mget\u001b[0;34m(url, params, **kwargs)\u001b[0m\n\u001b[1;32m     62\u001b[0m \u001b[38;5;28;01mdef\u001b[39;00m\u001b[38;5;250m \u001b[39m\u001b[38;5;21mget\u001b[39m(url, params\u001b[38;5;241m=\u001b[39m\u001b[38;5;28;01mNone\u001b[39;00m, \u001b[38;5;241m*\u001b[39m\u001b[38;5;241m*\u001b[39mkwargs):\n\u001b[1;32m     63\u001b[0m \u001b[38;5;250m    \u001b[39m\u001b[38;5;124mr\u001b[39m\u001b[38;5;124;03m\"\"\"Sends a GET request.\u001b[39;00m\n\u001b[1;32m     64\u001b[0m \n\u001b[1;32m     65\u001b[0m \u001b[38;5;124;03m    :param url: URL for the new :class:`Request` object.\u001b[39;00m\n\u001b[0;32m   (...)\u001b[0m\n\u001b[1;32m     70\u001b[0m \u001b[38;5;124;03m    :rtype: requests.Response\u001b[39;00m\n\u001b[1;32m     71\u001b[0m \u001b[38;5;124;03m    \"\"\"\u001b[39;00m\n\u001b[0;32m---> 73\u001b[0m     \u001b[38;5;28;01mreturn\u001b[39;00m \u001b[43mrequest\u001b[49m\u001b[43m(\u001b[49m\u001b[38;5;124;43m\"\u001b[39;49m\u001b[38;5;124;43mget\u001b[39;49m\u001b[38;5;124;43m\"\u001b[39;49m\u001b[43m,\u001b[49m\u001b[43m \u001b[49m\u001b[43murl\u001b[49m\u001b[43m,\u001b[49m\u001b[43m \u001b[49m\u001b[43mparams\u001b[49m\u001b[38;5;241;43m=\u001b[39;49m\u001b[43mparams\u001b[49m\u001b[43m,\u001b[49m\u001b[43m \u001b[49m\u001b[38;5;241;43m*\u001b[39;49m\u001b[38;5;241;43m*\u001b[39;49m\u001b[43mkwargs\u001b[49m\u001b[43m)\u001b[49m\n",
      "File \u001b[0;32m~/.local/lib/python3.10/site-packages/requests/api.py:59\u001b[0m, in \u001b[0;36mrequest\u001b[0;34m(method, url, **kwargs)\u001b[0m\n\u001b[1;32m     55\u001b[0m \u001b[38;5;66;03m# By using the 'with' statement we are sure the session is closed, thus we\u001b[39;00m\n\u001b[1;32m     56\u001b[0m \u001b[38;5;66;03m# avoid leaving sockets open which can trigger a ResourceWarning in some\u001b[39;00m\n\u001b[1;32m     57\u001b[0m \u001b[38;5;66;03m# cases, and look like a memory leak in others.\u001b[39;00m\n\u001b[1;32m     58\u001b[0m \u001b[38;5;28;01mwith\u001b[39;00m sessions\u001b[38;5;241m.\u001b[39mSession() \u001b[38;5;28;01mas\u001b[39;00m session:\n\u001b[0;32m---> 59\u001b[0m     \u001b[38;5;28;01mreturn\u001b[39;00m \u001b[43msession\u001b[49m\u001b[38;5;241;43m.\u001b[39;49m\u001b[43mrequest\u001b[49m\u001b[43m(\u001b[49m\u001b[43mmethod\u001b[49m\u001b[38;5;241;43m=\u001b[39;49m\u001b[43mmethod\u001b[49m\u001b[43m,\u001b[49m\u001b[43m \u001b[49m\u001b[43murl\u001b[49m\u001b[38;5;241;43m=\u001b[39;49m\u001b[43murl\u001b[49m\u001b[43m,\u001b[49m\u001b[43m \u001b[49m\u001b[38;5;241;43m*\u001b[39;49m\u001b[38;5;241;43m*\u001b[39;49m\u001b[43mkwargs\u001b[49m\u001b[43m)\u001b[49m\n",
      "File \u001b[0;32m~/.local/lib/python3.10/site-packages/requests/sessions.py:589\u001b[0m, in \u001b[0;36mSession.request\u001b[0;34m(self, method, url, params, data, headers, cookies, files, auth, timeout, allow_redirects, proxies, hooks, stream, verify, cert, json)\u001b[0m\n\u001b[1;32m    584\u001b[0m send_kwargs \u001b[38;5;241m=\u001b[39m {\n\u001b[1;32m    585\u001b[0m     \u001b[38;5;124m\"\u001b[39m\u001b[38;5;124mtimeout\u001b[39m\u001b[38;5;124m\"\u001b[39m: timeout,\n\u001b[1;32m    586\u001b[0m     \u001b[38;5;124m\"\u001b[39m\u001b[38;5;124mallow_redirects\u001b[39m\u001b[38;5;124m\"\u001b[39m: allow_redirects,\n\u001b[1;32m    587\u001b[0m }\n\u001b[1;32m    588\u001b[0m send_kwargs\u001b[38;5;241m.\u001b[39mupdate(settings)\n\u001b[0;32m--> 589\u001b[0m resp \u001b[38;5;241m=\u001b[39m \u001b[38;5;28;43mself\u001b[39;49m\u001b[38;5;241;43m.\u001b[39;49m\u001b[43msend\u001b[49m\u001b[43m(\u001b[49m\u001b[43mprep\u001b[49m\u001b[43m,\u001b[49m\u001b[43m \u001b[49m\u001b[38;5;241;43m*\u001b[39;49m\u001b[38;5;241;43m*\u001b[39;49m\u001b[43msend_kwargs\u001b[49m\u001b[43m)\u001b[49m\n\u001b[1;32m    591\u001b[0m \u001b[38;5;28;01mreturn\u001b[39;00m resp\n",
      "File \u001b[0;32m~/.local/lib/python3.10/site-packages/requests/sessions.py:703\u001b[0m, in \u001b[0;36mSession.send\u001b[0;34m(self, request, **kwargs)\u001b[0m\n\u001b[1;32m    700\u001b[0m start \u001b[38;5;241m=\u001b[39m preferred_clock()\n\u001b[1;32m    702\u001b[0m \u001b[38;5;66;03m# Send the request\u001b[39;00m\n\u001b[0;32m--> 703\u001b[0m r \u001b[38;5;241m=\u001b[39m \u001b[43madapter\u001b[49m\u001b[38;5;241;43m.\u001b[39;49m\u001b[43msend\u001b[49m\u001b[43m(\u001b[49m\u001b[43mrequest\u001b[49m\u001b[43m,\u001b[49m\u001b[43m \u001b[49m\u001b[38;5;241;43m*\u001b[39;49m\u001b[38;5;241;43m*\u001b[39;49m\u001b[43mkwargs\u001b[49m\u001b[43m)\u001b[49m\n\u001b[1;32m    705\u001b[0m \u001b[38;5;66;03m# Total elapsed time of the request (approximately)\u001b[39;00m\n\u001b[1;32m    706\u001b[0m elapsed \u001b[38;5;241m=\u001b[39m preferred_clock() \u001b[38;5;241m-\u001b[39m start\n",
      "File \u001b[0;32m~/.local/lib/python3.10/site-packages/requests/adapters.py:644\u001b[0m, in \u001b[0;36mHTTPAdapter.send\u001b[0;34m(self, request, stream, timeout, verify, cert, proxies)\u001b[0m\n\u001b[1;32m    641\u001b[0m     timeout \u001b[38;5;241m=\u001b[39m TimeoutSauce(connect\u001b[38;5;241m=\u001b[39mtimeout, read\u001b[38;5;241m=\u001b[39mtimeout)\n\u001b[1;32m    643\u001b[0m \u001b[38;5;28;01mtry\u001b[39;00m:\n\u001b[0;32m--> 644\u001b[0m     resp \u001b[38;5;241m=\u001b[39m \u001b[43mconn\u001b[49m\u001b[38;5;241;43m.\u001b[39;49m\u001b[43murlopen\u001b[49m\u001b[43m(\u001b[49m\n\u001b[1;32m    645\u001b[0m \u001b[43m        \u001b[49m\u001b[43mmethod\u001b[49m\u001b[38;5;241;43m=\u001b[39;49m\u001b[43mrequest\u001b[49m\u001b[38;5;241;43m.\u001b[39;49m\u001b[43mmethod\u001b[49m\u001b[43m,\u001b[49m\n\u001b[1;32m    646\u001b[0m \u001b[43m        \u001b[49m\u001b[43murl\u001b[49m\u001b[38;5;241;43m=\u001b[39;49m\u001b[43murl\u001b[49m\u001b[43m,\u001b[49m\n\u001b[1;32m    647\u001b[0m \u001b[43m        \u001b[49m\u001b[43mbody\u001b[49m\u001b[38;5;241;43m=\u001b[39;49m\u001b[43mrequest\u001b[49m\u001b[38;5;241;43m.\u001b[39;49m\u001b[43mbody\u001b[49m\u001b[43m,\u001b[49m\n\u001b[1;32m    648\u001b[0m \u001b[43m        \u001b[49m\u001b[43mheaders\u001b[49m\u001b[38;5;241;43m=\u001b[39;49m\u001b[43mrequest\u001b[49m\u001b[38;5;241;43m.\u001b[39;49m\u001b[43mheaders\u001b[49m\u001b[43m,\u001b[49m\n\u001b[1;32m    649\u001b[0m \u001b[43m        \u001b[49m\u001b[43mredirect\u001b[49m\u001b[38;5;241;43m=\u001b[39;49m\u001b[38;5;28;43;01mFalse\u001b[39;49;00m\u001b[43m,\u001b[49m\n\u001b[1;32m    650\u001b[0m \u001b[43m        \u001b[49m\u001b[43massert_same_host\u001b[49m\u001b[38;5;241;43m=\u001b[39;49m\u001b[38;5;28;43;01mFalse\u001b[39;49;00m\u001b[43m,\u001b[49m\n\u001b[1;32m    651\u001b[0m \u001b[43m        \u001b[49m\u001b[43mpreload_content\u001b[49m\u001b[38;5;241;43m=\u001b[39;49m\u001b[38;5;28;43;01mFalse\u001b[39;49;00m\u001b[43m,\u001b[49m\n\u001b[1;32m    652\u001b[0m \u001b[43m        \u001b[49m\u001b[43mdecode_content\u001b[49m\u001b[38;5;241;43m=\u001b[39;49m\u001b[38;5;28;43;01mFalse\u001b[39;49;00m\u001b[43m,\u001b[49m\n\u001b[1;32m    653\u001b[0m \u001b[43m        \u001b[49m\u001b[43mretries\u001b[49m\u001b[38;5;241;43m=\u001b[39;49m\u001b[38;5;28;43mself\u001b[39;49m\u001b[38;5;241;43m.\u001b[39;49m\u001b[43mmax_retries\u001b[49m\u001b[43m,\u001b[49m\n\u001b[1;32m    654\u001b[0m \u001b[43m        \u001b[49m\u001b[43mtimeout\u001b[49m\u001b[38;5;241;43m=\u001b[39;49m\u001b[43mtimeout\u001b[49m\u001b[43m,\u001b[49m\n\u001b[1;32m    655\u001b[0m \u001b[43m        \u001b[49m\u001b[43mchunked\u001b[49m\u001b[38;5;241;43m=\u001b[39;49m\u001b[43mchunked\u001b[49m\u001b[43m,\u001b[49m\n\u001b[1;32m    656\u001b[0m \u001b[43m    \u001b[49m\u001b[43m)\u001b[49m\n\u001b[1;32m    658\u001b[0m \u001b[38;5;28;01mexcept\u001b[39;00m (ProtocolError, \u001b[38;5;167;01mOSError\u001b[39;00m) \u001b[38;5;28;01mas\u001b[39;00m err:\n\u001b[1;32m    659\u001b[0m     \u001b[38;5;28;01mraise\u001b[39;00m \u001b[38;5;167;01mConnectionError\u001b[39;00m(err, request\u001b[38;5;241m=\u001b[39mrequest)\n",
      "File \u001b[0;32m~/miniforge3/envs/nasa/lib/python3.10/site-packages/urllib3/connectionpool.py:787\u001b[0m, in \u001b[0;36mHTTPConnectionPool.urlopen\u001b[0;34m(self, method, url, body, headers, retries, redirect, assert_same_host, timeout, pool_timeout, release_conn, chunked, body_pos, preload_content, decode_content, **response_kw)\u001b[0m\n\u001b[1;32m    784\u001b[0m response_conn \u001b[38;5;241m=\u001b[39m conn \u001b[38;5;28;01mif\u001b[39;00m \u001b[38;5;129;01mnot\u001b[39;00m release_conn \u001b[38;5;28;01melse\u001b[39;00m \u001b[38;5;28;01mNone\u001b[39;00m\n\u001b[1;32m    786\u001b[0m \u001b[38;5;66;03m# Make the request on the HTTPConnection object\u001b[39;00m\n\u001b[0;32m--> 787\u001b[0m response \u001b[38;5;241m=\u001b[39m \u001b[38;5;28;43mself\u001b[39;49m\u001b[38;5;241;43m.\u001b[39;49m\u001b[43m_make_request\u001b[49m\u001b[43m(\u001b[49m\n\u001b[1;32m    788\u001b[0m \u001b[43m    \u001b[49m\u001b[43mconn\u001b[49m\u001b[43m,\u001b[49m\n\u001b[1;32m    789\u001b[0m \u001b[43m    \u001b[49m\u001b[43mmethod\u001b[49m\u001b[43m,\u001b[49m\n\u001b[1;32m    790\u001b[0m \u001b[43m    \u001b[49m\u001b[43murl\u001b[49m\u001b[43m,\u001b[49m\n\u001b[1;32m    791\u001b[0m \u001b[43m    \u001b[49m\u001b[43mtimeout\u001b[49m\u001b[38;5;241;43m=\u001b[39;49m\u001b[43mtimeout_obj\u001b[49m\u001b[43m,\u001b[49m\n\u001b[1;32m    792\u001b[0m \u001b[43m    \u001b[49m\u001b[43mbody\u001b[49m\u001b[38;5;241;43m=\u001b[39;49m\u001b[43mbody\u001b[49m\u001b[43m,\u001b[49m\n\u001b[1;32m    793\u001b[0m \u001b[43m    \u001b[49m\u001b[43mheaders\u001b[49m\u001b[38;5;241;43m=\u001b[39;49m\u001b[43mheaders\u001b[49m\u001b[43m,\u001b[49m\n\u001b[1;32m    794\u001b[0m \u001b[43m    \u001b[49m\u001b[43mchunked\u001b[49m\u001b[38;5;241;43m=\u001b[39;49m\u001b[43mchunked\u001b[49m\u001b[43m,\u001b[49m\n\u001b[1;32m    795\u001b[0m \u001b[43m    \u001b[49m\u001b[43mretries\u001b[49m\u001b[38;5;241;43m=\u001b[39;49m\u001b[43mretries\u001b[49m\u001b[43m,\u001b[49m\n\u001b[1;32m    796\u001b[0m \u001b[43m    \u001b[49m\u001b[43mresponse_conn\u001b[49m\u001b[38;5;241;43m=\u001b[39;49m\u001b[43mresponse_conn\u001b[49m\u001b[43m,\u001b[49m\n\u001b[1;32m    797\u001b[0m \u001b[43m    \u001b[49m\u001b[43mpreload_content\u001b[49m\u001b[38;5;241;43m=\u001b[39;49m\u001b[43mpreload_content\u001b[49m\u001b[43m,\u001b[49m\n\u001b[1;32m    798\u001b[0m \u001b[43m    \u001b[49m\u001b[43mdecode_content\u001b[49m\u001b[38;5;241;43m=\u001b[39;49m\u001b[43mdecode_content\u001b[49m\u001b[43m,\u001b[49m\n\u001b[1;32m    799\u001b[0m \u001b[43m    \u001b[49m\u001b[38;5;241;43m*\u001b[39;49m\u001b[38;5;241;43m*\u001b[39;49m\u001b[43mresponse_kw\u001b[49m\u001b[43m,\u001b[49m\n\u001b[1;32m    800\u001b[0m \u001b[43m\u001b[49m\u001b[43m)\u001b[49m\n\u001b[1;32m    802\u001b[0m \u001b[38;5;66;03m# Everything went great!\u001b[39;00m\n\u001b[1;32m    803\u001b[0m clean_exit \u001b[38;5;241m=\u001b[39m \u001b[38;5;28;01mTrue\u001b[39;00m\n",
      "File \u001b[0;32m~/miniforge3/envs/nasa/lib/python3.10/site-packages/urllib3/connectionpool.py:464\u001b[0m, in \u001b[0;36mHTTPConnectionPool._make_request\u001b[0;34m(self, conn, method, url, body, headers, retries, timeout, chunked, response_conn, preload_content, decode_content, enforce_content_length)\u001b[0m\n\u001b[1;32m    461\u001b[0m \u001b[38;5;28;01mtry\u001b[39;00m:\n\u001b[1;32m    462\u001b[0m     \u001b[38;5;66;03m# Trigger any extra validation we need to do.\u001b[39;00m\n\u001b[1;32m    463\u001b[0m     \u001b[38;5;28;01mtry\u001b[39;00m:\n\u001b[0;32m--> 464\u001b[0m         \u001b[38;5;28;43mself\u001b[39;49m\u001b[38;5;241;43m.\u001b[39;49m\u001b[43m_validate_conn\u001b[49m\u001b[43m(\u001b[49m\u001b[43mconn\u001b[49m\u001b[43m)\u001b[49m\n\u001b[1;32m    465\u001b[0m     \u001b[38;5;28;01mexcept\u001b[39;00m (SocketTimeout, BaseSSLError) \u001b[38;5;28;01mas\u001b[39;00m e:\n\u001b[1;32m    466\u001b[0m         \u001b[38;5;28mself\u001b[39m\u001b[38;5;241m.\u001b[39m_raise_timeout(err\u001b[38;5;241m=\u001b[39me, url\u001b[38;5;241m=\u001b[39murl, timeout_value\u001b[38;5;241m=\u001b[39mconn\u001b[38;5;241m.\u001b[39mtimeout)\n",
      "File \u001b[0;32m~/miniforge3/envs/nasa/lib/python3.10/site-packages/urllib3/connectionpool.py:1093\u001b[0m, in \u001b[0;36mHTTPSConnectionPool._validate_conn\u001b[0;34m(self, conn)\u001b[0m\n\u001b[1;32m   1091\u001b[0m \u001b[38;5;66;03m# Force connect early to allow us to validate the connection.\u001b[39;00m\n\u001b[1;32m   1092\u001b[0m \u001b[38;5;28;01mif\u001b[39;00m conn\u001b[38;5;241m.\u001b[39mis_closed:\n\u001b[0;32m-> 1093\u001b[0m     \u001b[43mconn\u001b[49m\u001b[38;5;241;43m.\u001b[39;49m\u001b[43mconnect\u001b[49m\u001b[43m(\u001b[49m\u001b[43m)\u001b[49m\n\u001b[1;32m   1095\u001b[0m \u001b[38;5;66;03m# TODO revise this, see https://github.com/urllib3/urllib3/issues/2791\u001b[39;00m\n\u001b[1;32m   1096\u001b[0m \u001b[38;5;28;01mif\u001b[39;00m \u001b[38;5;129;01mnot\u001b[39;00m conn\u001b[38;5;241m.\u001b[39mis_verified \u001b[38;5;129;01mand\u001b[39;00m \u001b[38;5;129;01mnot\u001b[39;00m conn\u001b[38;5;241m.\u001b[39mproxy_is_verified:\n",
      "File \u001b[0;32m~/miniforge3/envs/nasa/lib/python3.10/site-packages/urllib3/connection.py:704\u001b[0m, in \u001b[0;36mHTTPSConnection.connect\u001b[0;34m(self)\u001b[0m\n\u001b[1;32m    702\u001b[0m \u001b[38;5;28;01mtry\u001b[39;00m:\n\u001b[1;32m    703\u001b[0m     sock: socket\u001b[38;5;241m.\u001b[39msocket \u001b[38;5;241m|\u001b[39m ssl\u001b[38;5;241m.\u001b[39mSSLSocket\n\u001b[0;32m--> 704\u001b[0m     \u001b[38;5;28mself\u001b[39m\u001b[38;5;241m.\u001b[39msock \u001b[38;5;241m=\u001b[39m sock \u001b[38;5;241m=\u001b[39m \u001b[38;5;28;43mself\u001b[39;49m\u001b[38;5;241;43m.\u001b[39;49m\u001b[43m_new_conn\u001b[49m\u001b[43m(\u001b[49m\u001b[43m)\u001b[49m\n\u001b[1;32m    705\u001b[0m     server_hostname: \u001b[38;5;28mstr\u001b[39m \u001b[38;5;241m=\u001b[39m \u001b[38;5;28mself\u001b[39m\u001b[38;5;241m.\u001b[39mhost\n\u001b[1;32m    706\u001b[0m     tls_in_tls \u001b[38;5;241m=\u001b[39m \u001b[38;5;28;01mFalse\u001b[39;00m\n",
      "File \u001b[0;32m~/miniforge3/envs/nasa/lib/python3.10/site-packages/urllib3/connection.py:198\u001b[0m, in \u001b[0;36mHTTPConnection._new_conn\u001b[0;34m(self)\u001b[0m\n\u001b[1;32m    193\u001b[0m \u001b[38;5;250m\u001b[39m\u001b[38;5;124;03m\"\"\"Establish a socket connection and set nodelay settings on it.\u001b[39;00m\n\u001b[1;32m    194\u001b[0m \n\u001b[1;32m    195\u001b[0m \u001b[38;5;124;03m:return: New socket connection.\u001b[39;00m\n\u001b[1;32m    196\u001b[0m \u001b[38;5;124;03m\"\"\"\u001b[39;00m\n\u001b[1;32m    197\u001b[0m \u001b[38;5;28;01mtry\u001b[39;00m:\n\u001b[0;32m--> 198\u001b[0m     sock \u001b[38;5;241m=\u001b[39m \u001b[43mconnection\u001b[49m\u001b[38;5;241;43m.\u001b[39;49m\u001b[43mcreate_connection\u001b[49m\u001b[43m(\u001b[49m\n\u001b[1;32m    199\u001b[0m \u001b[43m        \u001b[49m\u001b[43m(\u001b[49m\u001b[38;5;28;43mself\u001b[39;49m\u001b[38;5;241;43m.\u001b[39;49m\u001b[43m_dns_host\u001b[49m\u001b[43m,\u001b[49m\u001b[43m \u001b[49m\u001b[38;5;28;43mself\u001b[39;49m\u001b[38;5;241;43m.\u001b[39;49m\u001b[43mport\u001b[49m\u001b[43m)\u001b[49m\u001b[43m,\u001b[49m\n\u001b[1;32m    200\u001b[0m \u001b[43m        \u001b[49m\u001b[38;5;28;43mself\u001b[39;49m\u001b[38;5;241;43m.\u001b[39;49m\u001b[43mtimeout\u001b[49m\u001b[43m,\u001b[49m\n\u001b[1;32m    201\u001b[0m \u001b[43m        \u001b[49m\u001b[43msource_address\u001b[49m\u001b[38;5;241;43m=\u001b[39;49m\u001b[38;5;28;43mself\u001b[39;49m\u001b[38;5;241;43m.\u001b[39;49m\u001b[43msource_address\u001b[49m\u001b[43m,\u001b[49m\n\u001b[1;32m    202\u001b[0m \u001b[43m        \u001b[49m\u001b[43msocket_options\u001b[49m\u001b[38;5;241;43m=\u001b[39;49m\u001b[38;5;28;43mself\u001b[39;49m\u001b[38;5;241;43m.\u001b[39;49m\u001b[43msocket_options\u001b[49m\u001b[43m,\u001b[49m\n\u001b[1;32m    203\u001b[0m \u001b[43m    \u001b[49m\u001b[43m)\u001b[49m\n\u001b[1;32m    204\u001b[0m \u001b[38;5;28;01mexcept\u001b[39;00m socket\u001b[38;5;241m.\u001b[39mgaierror \u001b[38;5;28;01mas\u001b[39;00m e:\n\u001b[1;32m    205\u001b[0m     \u001b[38;5;28;01mraise\u001b[39;00m NameResolutionError(\u001b[38;5;28mself\u001b[39m\u001b[38;5;241m.\u001b[39mhost, \u001b[38;5;28mself\u001b[39m, e) \u001b[38;5;28;01mfrom\u001b[39;00m\u001b[38;5;250m \u001b[39m\u001b[38;5;21;01me\u001b[39;00m\n",
      "File \u001b[0;32m~/miniforge3/envs/nasa/lib/python3.10/site-packages/urllib3/util/connection.py:73\u001b[0m, in \u001b[0;36mcreate_connection\u001b[0;34m(address, timeout, source_address, socket_options)\u001b[0m\n\u001b[1;32m     71\u001b[0m \u001b[38;5;28;01mif\u001b[39;00m source_address:\n\u001b[1;32m     72\u001b[0m     sock\u001b[38;5;241m.\u001b[39mbind(source_address)\n\u001b[0;32m---> 73\u001b[0m \u001b[43msock\u001b[49m\u001b[38;5;241;43m.\u001b[39;49m\u001b[43mconnect\u001b[49m\u001b[43m(\u001b[49m\u001b[43msa\u001b[49m\u001b[43m)\u001b[49m\n\u001b[1;32m     74\u001b[0m \u001b[38;5;66;03m# Break explicitly a reference cycle\u001b[39;00m\n\u001b[1;32m     75\u001b[0m err \u001b[38;5;241m=\u001b[39m \u001b[38;5;28;01mNone\u001b[39;00m\n",
      "\u001b[0;31mKeyboardInterrupt\u001b[0m: "
     ]
    }
   ],
   "source": [
    "data = fetch_all_osd()"
   ]
  },
  {
   "cell_type": "code",
   "execution_count": null,
   "id": "1c2c3682",
   "metadata": {},
   "outputs": [],
   "source": [
    "import pickle \n",
    "\n",
    "def save():\n",
    "    with open('data/cached_data/osd_data.pkl', 'wb') as f:\n",
    "        pickle.dump(data, f)\n",
    "\n",
    "def open():\n",
    "    with open('data/cached_data/osd_data.pkl', 'rb') as f:\n",
    "        loaded_dict = pickle.load(f)\n",
    "    return loaded_dict\n"
   ]
  },
  {
   "cell_type": "code",
   "execution_count": 115,
   "id": "eca21b64",
   "metadata": {},
   "outputs": [
    {
     "data": {
      "text/plain": [
       "['A microRNA signature and TGF-β1 response were identified as the key master regulators for spaceflight response.',\n",
       " 'Validation of a New Rodent Experimental System to Investigate Consequences of Long Duration Space Habitation.',\n",
       " 'Reproducible changes in the gut microbiome suggest a shift in microbial and host metabolism during spaceflight.',\n",
       " 'Validation of Methods to Assess the Immunoglobulin Gene Repertoire in Tissues Obtained from Mice on the International Space Station.']"
      ]
     },
     "execution_count": 115,
     "metadata": {},
     "output_type": "execute_result"
    }
   ],
   "source": [
    "loaded_dict[\"OSD-1\"][\"metadata\"][\"study description\"]\n",
    "loaded_dict[\"OSD-48\"][\"metadata\"][\"study publication title\"] # either list of strings (e.g. OSD-48) or single string\n",
    "# Available information demo per study: https://visualization.osdr.nasa.gov/biodata/api/v2/dataset/OSD-48/?format=browser"
   ]
  }
 ],
 "metadata": {
  "kernelspec": {
   "display_name": "nasa",
   "language": "python",
   "name": "python3"
  },
  "language_info": {
   "codemirror_mode": {
    "name": "ipython",
    "version": 3
   },
   "file_extension": ".py",
   "mimetype": "text/x-python",
   "name": "python",
   "nbconvert_exporter": "python",
   "pygments_lexer": "ipython3",
   "version": "3.10.18"
  }
 },
 "nbformat": 4,
 "nbformat_minor": 5
}
